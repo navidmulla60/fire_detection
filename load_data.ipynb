{
 "cells": [
  {
   "cell_type": "code",
   "execution_count": 10,
   "metadata": {},
   "outputs": [],
   "source": [
    "import tensorflow as tf\n",
    "from tensorflow.keras.models import Sequential\n",
    "from tensorflow.keras.layers import Dense, Flatten, Dropout, Activation, Conv2D, MaxPooling2D\n",
    "from tensorflow.keras.callbacks import TensorBoard\n",
    "import pickle\n",
    "import time\n",
    "\n",
    "# NAME = \"Fire-detection-cnn-64x2\".format(int(time.time()))\n",
    "# tensorboard = TensorBoard(log_dir=f'logs/{NAME}')\n",
    "\n",
    "X = pickle.load(open(\"X.pickle\", \"rb\"))\n",
    "y = pickle.load(open(\"y.pickle\", \"rb\"))"
   ]
  },
  {
   "cell_type": "code",
   "execution_count": 11,
   "metadata": {},
   "outputs": [],
   "source": [
    "# Set a specific fraction of GPU memory to be allocated\n",
    "gpus = tf.config.experimental.list_physical_devices('GPU')\n",
    "if gpus:\n",
    "    try:\n",
    "        tf.config.experimental.set_virtual_device_configuration(\n",
    "            gpus[0],\n",
    "            [tf.config.experimental.VirtualDeviceConfiguration(memory_limit=1024)])\n",
    "    except RuntimeError as e:\n",
    "        print(e)"
   ]
  },
  {
   "cell_type": "code",
   "execution_count": 12,
   "metadata": {},
   "outputs": [
    {
     "name": "stdout",
     "output_type": "stream",
     "text": [
      "Epoch 1/13\n",
      "29/29 [==============================] - 4s 136ms/step - loss: 0.5749 - accuracy: 0.7383 - val_loss: 0.6878 - val_accuracy: 0.7200\n",
      "Epoch 2/13\n",
      "29/29 [==============================] - 4s 132ms/step - loss: 0.4859 - accuracy: 0.7673 - val_loss: 0.4419 - val_accuracy: 0.8200\n",
      "Epoch 3/13\n",
      "29/29 [==============================] - 4s 133ms/step - loss: 0.3781 - accuracy: 0.8352 - val_loss: 0.4496 - val_accuracy: 0.7900\n",
      "Epoch 4/13\n",
      "29/29 [==============================] - 4s 130ms/step - loss: 0.3254 - accuracy: 0.8664 - val_loss: 0.3775 - val_accuracy: 0.8700\n",
      "Epoch 5/13\n",
      "29/29 [==============================] - 4s 132ms/step - loss: 0.2776 - accuracy: 0.8842 - val_loss: 0.3691 - val_accuracy: 0.8700\n",
      "Epoch 6/13\n",
      "29/29 [==============================] - 4s 137ms/step - loss: 0.2686 - accuracy: 0.9009 - val_loss: 0.3444 - val_accuracy: 0.8600\n",
      "Epoch 7/13\n",
      "29/29 [==============================] - 4s 126ms/step - loss: 0.2810 - accuracy: 0.8719 - val_loss: 0.4374 - val_accuracy: 0.8300\n",
      "Epoch 8/13\n",
      "29/29 [==============================] - 4s 135ms/step - loss: 0.2647 - accuracy: 0.8920 - val_loss: 0.4968 - val_accuracy: 0.8100\n",
      "Epoch 9/13\n",
      "29/29 [==============================] - 4s 135ms/step - loss: 0.2695 - accuracy: 0.9009 - val_loss: 0.3774 - val_accuracy: 0.8800\n",
      "Epoch 10/13\n",
      "29/29 [==============================] - 4s 132ms/step - loss: 0.2599 - accuracy: 0.9009 - val_loss: 0.2969 - val_accuracy: 0.9000\n",
      "Epoch 11/13\n",
      "29/29 [==============================] - 4s 135ms/step - loss: 0.2632 - accuracy: 0.9020 - val_loss: 0.4138 - val_accuracy: 0.8200\n",
      "Epoch 12/13\n",
      "29/29 [==============================] - 4s 132ms/step - loss: 0.2533 - accuracy: 0.9053 - val_loss: 0.5404 - val_accuracy: 0.7900\n",
      "Epoch 13/13\n",
      "29/29 [==============================] - 4s 133ms/step - loss: 0.3309 - accuracy: 0.8775 - val_loss: 0.3652 - val_accuracy: 0.8600\n"
     ]
    }
   ],
   "source": [
    "X=X/255.0\n",
    "dense_layers=[0]\n",
    "layer_sizes=[64]\n",
    "conv_layers=[3]\n",
    "for dense_layer in dense_layers:\n",
    "    for layer_size in layer_sizes:\n",
    "        for conv_layer in conv_layers:\n",
    "            NAME = \"Fire-detection-cnn-64x2\".format(int(time.time()))            \n",
    "\n",
    "            model=Sequential()\n",
    "            model.add(Conv2D(layer_size,(3,3),input_shape=X.shape[1:]))\n",
    "            model.add(Activation(\"relu\"))\n",
    "            model.add(MaxPooling2D(pool_size=(2,2)))\n",
    "\n",
    "            for l in range(conv_layer-1):\n",
    "                model.add(Conv2D(layer_size,(3,3)))\n",
    "                model.add(Activation(\"relu\"))\n",
    "                model.add(MaxPooling2D(pool_size=(2,2)))\n",
    "            model.add(Flatten())\n",
    "\n",
    "            for _ in range(dense_layer):\n",
    "                model.add(Dense(layer_size))\n",
    "                model.add(Activation(\"relu\"))\n",
    "\n",
    "            model.add(Dense(1))\n",
    "            model.add(Activation('sigmoid'))\n",
    "            \n",
    "            tensorboard = TensorBoard(log_dir=f'logs/{NAME}')\n",
    "\n",
    "            model.compile(loss=\"binary_crossentropy\",\n",
    "                          optimizer=\"adam\",\n",
    "                          metrics=['accuracy'])\n",
    "            model.fit(X,y,batch_size=32,epochs=13, validation_split=0.1, callbacks=[tensorboard])"
   ]
  },
  {
   "cell_type": "code",
   "execution_count": 13,
   "metadata": {},
   "outputs": [
    {
     "name": "stdout",
     "output_type": "stream",
     "text": [
      "INFO:tensorflow:Assets written to: fireDetection_64x3-CNN.model/assets\n"
     ]
    }
   ],
   "source": [
    "model.save(\"fireDetection_64x3-CNN.model\")"
   ]
  }
 ],
 "metadata": {
  "kernelspec": {
   "display_name": "deepEnv",
   "language": "python",
   "name": "python3"
  },
  "language_info": {
   "codemirror_mode": {
    "name": "ipython",
    "version": 3
   },
   "file_extension": ".py",
   "mimetype": "text/x-python",
   "name": "python",
   "nbconvert_exporter": "python",
   "pygments_lexer": "ipython3",
   "version": "3.10.12"
  },
  "orig_nbformat": 4
 },
 "nbformat": 4,
 "nbformat_minor": 2
}
